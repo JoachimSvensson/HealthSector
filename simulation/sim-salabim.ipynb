{
 "cells": [
  {
   "cell_type": "code",
   "execution_count": 1,
   "metadata": {},
   "outputs": [],
   "source": [
    "import salabim as sim"
   ]
  },
  {
   "cell_type": "code",
   "execution_count": 4,
   "metadata": {},
   "outputs": [
    {
     "name": "stdout",
     "output_type": "stream",
     "text": [
      "line#        time current component    action                               information\n",
      "------ ---------- -------------------- -----------------------------------  ------------------------------------------------\n",
      "                                       line numbers refers to               3468253836.py\n",
      "    6                                  default environment initialize       \n",
      "    6                                  main create                          \n",
      "    6       0.000 main                 current                              \n",
      "    7                                  car.1 create                         \n",
      "    7                                  car.1 activate                       scheduled for 0.000 @    2+ process=process\n",
      "    8                                  main run +5.000                      scheduled for 5.000 @    8+\n",
      "    2+      0.000 car.1                current                              \n",
      "    4                                  car.1 hold +1.000                    scheduled for 1.000 @    4+\n",
      "    4+      1.000 car.1                current                              \n",
      "    4                                  car.1 hold +1.000                    scheduled for 2.000 @    4+\n",
      "    4+      2.000 car.1                current                              \n",
      "    4                                  car.1 hold +1.000                    scheduled for 3.000 @    4+\n",
      "    4+      3.000 car.1                current                              \n",
      "    4                                  car.1 hold +1.000                    scheduled for 4.000 @    4+\n",
      "    4+      4.000 car.1                current                              \n",
      "    4                                  car.1 hold +1.000                    scheduled for 5.000 @    4+\n",
      "    4+      5.000 car.1                current                              \n",
      "    4                                  car.1 hold +1.000                    scheduled for 6.000 @    4+\n",
      "    8+      5.000 main                 current                              \n"
     ]
    }
   ],
   "source": [
    "class Car(sim.Component):\n",
    "    def process(self):\n",
    "        while True:\n",
    "            self.hold(1)\n",
    "\n",
    "env = sim.Environment(trace=True)\n",
    "Car()\n",
    "env.run(till=5)"
   ]
  }
 ],
 "metadata": {
  "kernelspec": {
   "display_name": "NHS",
   "language": "python",
   "name": "python3"
  },
  "language_info": {
   "codemirror_mode": {
    "name": "ipython",
    "version": 3
   },
   "file_extension": ".py",
   "mimetype": "text/x-python",
   "name": "python",
   "nbconvert_exporter": "python",
   "pygments_lexer": "ipython3",
   "version": "3.9.18"
  }
 },
 "nbformat": 4,
 "nbformat_minor": 2
}
