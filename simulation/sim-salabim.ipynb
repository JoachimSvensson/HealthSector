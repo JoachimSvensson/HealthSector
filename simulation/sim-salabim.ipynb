{
 "cells": [
  {
   "cell_type": "code",
   "execution_count": 1,
   "metadata": {},
   "outputs": [],
   "source": [
    "import salabim as sim"
   ]
  },
  {
   "cell_type": "markdown",
   "metadata": {},
   "source": [
    "## With Queue"
   ]
  },
  {
   "cell_type": "code",
   "execution_count": 5,
   "metadata": {},
   "outputs": [],
   "source": [
    "class CustomerGenerator(sim.Component):\n",
    "    def process(self):\n",
    "        while True:\n",
    "            Customer()\n",
    "            self.hold(sim.Uniform(5, 15).sample())\n",
    "\n",
    "\n",
    "class Customer(sim.Component):\n",
    "    def process(self):\n",
    "        if len(waitingline) >= 5:\n",
    "            env.number_balked += 1\n",
    "            env.print_trace(\"\", \"\", \"balked\")\n",
    "            print(env.now(), \"balked\",self.name())\n",
    "            self.cancel()\n",
    "        self.enter(waitingline)\n",
    "        for clerk in clerks:\n",
    "            if clerk.ispassive():\n",
    "                clerk.activate()\n",
    "                break #activate only 1 clerk\n",
    "        self.hold(50) # if not served within this time -> renege\n",
    "        if self in waitingline:\n",
    "            self.leave(waitingline)\n",
    "            env.number_reneged += 1\n",
    "            env.print_trace(\"\", \"\", \"reneged\")\n",
    "        else:\n",
    "            self.passivate() # waiting for service to be completed\n",
    "\n",
    "\n",
    "class Clerk(sim.Component):\n",
    "    def process(self):\n",
    "        while True:\n",
    "            while len(waitingline) == 0:\n",
    "                self.passivate()\n",
    "            self.customer = waitingline.pop()\n",
    "            self.customer.activate() # get the customer out of its hold\n",
    "            self.hold(30)\n",
    "            self.customer.activate() # signal the customer that all is done\n",
    "\n",
    "\n",
    "\n",
    "env = sim.Environment(trace=True)\n",
    "\n",
    "CustomerGenerator()\n",
    "env.number_balked = 0\n",
    "env.number_reneged = 0\n",
    "clerks = [Clerk() for _ in range(3)]\n",
    "waitingline = sim.Queue('waitingline')\n",
    "\n",
    "\n",
    "env.run(duration=3000) # till can also be used\n",
    "waitingline.length.print_histogram(30,0,1)\n",
    "waitingline.length_of_stay.print_histogram(30,0,10)\n",
    "print(f'number balked: {env.number_balked}')\n",
    "print(f'number reneged: {env.number_reneged}')\n",
    "\n",
    "# waitingline.print_histograms()\n",
    "# waitingline.print_info()\n",
    "# print()\n",
    "# waitingline.print_statistics()"
   ]
  },
  {
   "cell_type": "markdown",
   "metadata": {},
   "source": [
    "## With Store"
   ]
  },
  {
   "cell_type": "code",
   "execution_count": null,
   "metadata": {},
   "outputs": [],
   "source": [
    "\n",
    "class CustomerGenerator(sim.Component):\n",
    "    def process(self):\n",
    "        while True:\n",
    "            Customer().enter(waiting_room)\n",
    "            self.hold(sim.Uniform(5, 15).sample())\n",
    "\n",
    "\n",
    "class Customer(sim.Component):\n",
    "    ...\n",
    "\n",
    "\n",
    "class Clerk(sim.Component):\n",
    "    def process(self):\n",
    "        while True:\n",
    "            customer = self.from_store(waiting_room)\n",
    "            self.hold(30)\n",
    "            \n",
    "\n",
    "env = sim.Environment(trace=True)\n",
    "\n",
    "CustomerGenerator()\n",
    "for _ in range(3):\n",
    "    Clerk()\n",
    "waiting_room = sim.Store('waiting_room')\n",
    "\n",
    "\n",
    "env.run(till=5000)\n",
    "waiting_room.print_statistics()\n",
    "waiting_room.print_info()\n"
   ]
  },
  {
   "cell_type": "markdown",
   "metadata": {},
   "source": [
    "## With Resources"
   ]
  },
  {
   "cell_type": "code",
   "execution_count": null,
   "metadata": {},
   "outputs": [],
   "source": [
    "class CustomerGenerator(sim.Component):\n",
    "    def process(self):\n",
    "        while True:\n",
    "            Customer()\n",
    "            self.hold(sim.Uniform(5, 15).sample())\n",
    "\n",
    "\n",
    "class Customer(sim.Component):\n",
    "    def process(self):\n",
    "        self.request(clerks)\n",
    "        self.hold(30)\n",
    "        self.release()\n",
    "    \n",
    "\n",
    "\n",
    "env = sim.Environment(trace=True)\n",
    "\n",
    "CustomerGenerator()\n",
    "for _ in range(3):\n",
    "    Clerk()\n",
    "clerks = sim.Resource(\"clerks\", capacity=3)\n",
    "\n",
    "env.run(till=5000)\n",
    "clerks.print_statistics()\n",
    "clerks.print_info()\n"
   ]
  }
 ],
 "metadata": {
  "kernelspec": {
   "display_name": "NHS",
   "language": "python",
   "name": "python3"
  },
  "language_info": {
   "codemirror_mode": {
    "name": "ipython",
    "version": 3
   },
   "file_extension": ".py",
   "mimetype": "text/x-python",
   "name": "python",
   "nbconvert_exporter": "python",
   "pygments_lexer": "ipython3",
   "version": "3.9.18"
  }
 },
 "nbformat": 4,
 "nbformat_minor": 2
}
