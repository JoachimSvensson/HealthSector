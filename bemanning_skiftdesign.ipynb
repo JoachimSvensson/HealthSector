{
 "cells": [
  {
   "cell_type": "markdown",
   "metadata": {},
   "source": [
    "# Simulering Bemanning og Skiftdesign"
   ]
  },
  {
   "cell_type": "markdown",
   "metadata": {},
   "source": [
    "**2. Simulering av bemanningsbehov og skiftdesign**<br>\n",
    "<br>\n",
    "**Formål**: Beregne bemanningsbehovet basert på forventet antall pasienter og skifttider, og sammenligne dette med eksisterende bemanning.<br>\n",
    "**Hvordan**: Bruk data om pasientankomster og gjennomsnittlig liggetid til å forutsi antall pasienter på avdelingen til ulike tider av døgnet. Deretter sammenligner du dette med nåværende skiftdesign og bemanning for å identifisere under- eller overdekning.<br>\n",
    "**Resultat**: Avdekke perioder hvor bemanningen er for lav, og evaluere hvordan skiftplanlegging kan optimaliseres.<br>"
   ]
  },
  {
   "cell_type": "markdown",
   "metadata": {},
   "source": [
    "## Import libraries"
   ]
  },
  {
   "cell_type": "code",
   "execution_count": 1,
   "metadata": {},
   "outputs": [],
   "source": [
    "import pandas as pd\n",
    "import numpy as np\n",
    "import matplotlib.pyplot as plt"
   ]
  },
  {
   "cell_type": "markdown",
   "metadata": {},
   "source": [
    "**Formål**: Simulere bemanningsbehov basert på pasientvolum, skiftplaner og kapasitet.<br>\n",
    "<br>\n",
    "**Nødvendig data**:<br>\n",
    "<br>\n",
    "1. Antall pasientankomster per time/dag.<br>\n",
    "2. Skifttider for helsepersonell.<br>\n",
    "3. Krav til bemanning per pasient (f.eks. antall sykepleiere per pasient).<br>"
   ]
  },
  {
   "cell_type": "markdown",
   "metadata": {},
   "source": [
    "## Input data"
   ]
  },
  {
   "cell_type": "code",
   "execution_count": 7,
   "metadata": {},
   "outputs": [],
   "source": [
    "avg_daily_admissions = 2  # Gjennomsnittlig daglige ankomster\n",
    "avg_length_of_stay = 3  # Gjennomsnittlig liggetid (dager)\n",
    "patients_per_nurse = 5  # Antall pasienter per sykepleier\n",
    "total_beds = 26  # Antall senger\n",
    "shifts_per_day = 3  # Antall skift per dag\n",
    "shift_hours = 8  # Antall timer per skift\n",
    "iterations = 1000  # Antall simuleringer"
   ]
  },
  {
   "cell_type": "markdown",
   "metadata": {},
   "source": [
    "## Simulering underbemannede skift"
   ]
  },
  {
   "cell_type": "code",
   "execution_count": 9,
   "metadata": {},
   "outputs": [],
   "source": [
    "understaffed_shifts = 0 \n",
    "staffed_shifts_data = []\n",
    "\n",
    "for _ in range(iterations):\n",
    "    try:\n",
    "        new_admissions = np.random.poisson(avg_daily_admissions) # pasientstrøm\n",
    "        lengths_of_stay = np.random.exponential(avg_length_of_stay, new_admissions) # lengde pasientopphold\n",
    "        total_patients = sum([len(lengths_of_stay[lengths_of_stay > day]) for day in range(int(max(lengths_of_stay)))]) # pasienter med daglig pleiebehov (gjennomsnittlig belegg)\n",
    "        nurses_needed_per_shift = total_patients / patients_per_nurse / shifts_per_day # behov antall sykepleiere per skift\n",
    "    except:\n",
    "        nurses_needed_per_shift = 0\n",
    "    actual_nurses = 11  # Antall sykepleiere per skift (faktisk bemanning)\n",
    "    if nurses_needed_per_shift > actual_nurses: # tilstrekkelig bemanning?\n",
    "        understaffed_shifts += 1\n",
    "    staffed_shifts_data.append(nurses_needed_per_shift)"
   ]
  },
  {
   "cell_type": "markdown",
   "metadata": {},
   "source": [
    "## Resultater"
   ]
  },
  {
   "cell_type": "code",
   "execution_count": 10,
   "metadata": {},
   "outputs": [
    {
     "name": "stdout",
     "output_type": "stream",
     "text": [
      "Prosentandel skift med underbemanning: 0.00%\n"
     ]
    },
    {
     "data": {
      "image/png": "[encoded data removed]",
      "text/plain": [
       "<Figure size 640x480 with 1 Axes>"
      ]
     },
     "metadata": {},
     "output_type": "display_data"
    }
   ],
   "source": [
    "# Resultat: Hvor ofte er skift underbemannet?\n",
    "print(f\"Prosentandel skift med underbemanning: {understaffed_shifts / iterations * 100:.2f}%\")\n",
    "\n",
    "# Visualisering av bemanningsbehov\n",
    "plt.hist(staffed_shifts_data, bins=30, alpha=0.7, color='orange')\n",
    "plt.xlabel('Antall sykepleiere nødvendig per skift')\n",
    "plt.ylabel('Dager')\n",
    "plt.title('Simulert bemanningsbehov per skift')\n",
    "plt.show()"
   ]
  },
  {
   "cell_type": "markdown",
   "metadata": {},
   "source": [
    "**Verdi for sykehuset**:<br>\n",
    "<br>\n",
    "1. Forstå hvor ofte avdelingen kan ha for lav bemanning.<br>\n",
    "2. Planlegge bemanning bedre ved å bruke data om faktiske pasientbehov.<br>"
   ]
  }
 ],
 "metadata": {
  "kernelspec": {
   "display_name": "NHS",
   "language": "python",
   "name": "python3"
  },
  "language_info": {
   "codemirror_mode": {
    "name": "ipython",
    "version": 3
   },
   "file_extension": ".py",
   "mimetype": "text/x-python",
   "name": "python",
   "nbconvert_exporter": "python",
   "pygments_lexer": "ipython3",
   "version": "3.9.18"
  }
 },
 "nbformat": 4,
 "nbformat_minor": 2
}
