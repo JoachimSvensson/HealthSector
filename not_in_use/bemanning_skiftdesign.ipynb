{
 "cells": [
  {
   "cell_type": "markdown",
   "metadata": {},
   "source": [
    "# Simulering Bemanning og Skiftdesign"
   ]
  },
  {
   "cell_type": "markdown",
   "metadata": {},
   "source": [
    "**2. Simulering av bemanningsbehov og skiftdesign**<br>\n",
    "<br>\n",
    "**Formål**: Beregne bemanningsbehovet basert på forventet antall pasienter og skifttider, og sammenligne dette med eksisterende bemanning.<br>\n",
    "**Hvordan**: Bruk data om pasientankomster og gjennomsnittlig liggetid til å forutsi antall pasienter på avdelingen til ulike tider av døgnet. Deretter sammenligner du dette med nåværende skiftdesign og bemanning for å identifisere under- eller overdekning.<br>\n",
    "**Resultat**: Avdekke perioder hvor bemanningen er for lav, og evaluere hvordan skiftplanlegging kan optimaliseres.<br>"
   ]
  },
  {
   "cell_type": "markdown",
   "metadata": {},
   "source": [
    "## Import libraries"
   ]
  },
  {
   "cell_type": "code",
   "execution_count": 1,
   "metadata": {},
   "outputs": [],
   "source": [
    "import pandas as pd\n",
    "import numpy as np\n",
    "import matplotlib.pyplot as plt"
   ]
  },
  {
   "cell_type": "markdown",
   "metadata": {},
   "source": [
    "**Formål**: Simulere bemanningsbehov basert på pasientvolum, skiftplaner og kapasitet.<br>\n",
    "<br>\n",
    "**Nødvendig data**:<br>\n",
    "<br>\n",
    "1. Antall pasientankomster per time/dag.<br>\n",
    "2. Skifttider for helsepersonell.<br>\n",
    "3. Krav til bemanning per pasient (f.eks. antall sykepleiere per pasient).<br>"
   ]
  },
  {
   "cell_type": "code",
   "execution_count": 2,
   "metadata": {},
   "outputs": [],
   "source": [
    "def datalast_behandling(path: str) -> pd.DataFrame:\n",
    "    fin_hf_med = pd.read_excel(path, sheet_name = \"medisinsk hammerfest\")\n",
    "    fin_hf_kir_ort = pd.read_excel(path, sheet_name = \"kirurgisk hammerfest\")\n",
    "\n",
    "    # post kolonne\n",
    "    fin_hf_med[\"post\"] = \"medisinsk\"\n",
    "    fin_hf_kir_ort[\"post\"] = \"kirurgisk\"\n",
    "\n",
    "    # merge and order datasets\n",
    "    fin_data = pd.concat([fin_hf_med, fin_hf_kir_ort], axis=0).sort_values(\"Dato\").reset_index()\n",
    "    fin_data.drop([\"index\"], axis=1, inplace=True)\n",
    "    fin_data['helg'] = fin_data['Dato'].dt.weekday.apply(lambda x: 1 if x >= 5 else 0)\n",
    "    return fin_data"
   ]
  },
  {
   "cell_type": "code",
   "execution_count": 4,
   "metadata": {},
   "outputs": [],
   "source": [
    "path = \"../data/fin_hf_datagrunnlag.xlsx\"\n",
    "fin_data = datalast_behandling(path)"
   ]
  },
  {
   "cell_type": "markdown",
   "metadata": {},
   "source": [
    "## Input data"
   ]
  },
  {
   "cell_type": "code",
   "execution_count": 5,
   "metadata": {},
   "outputs": [],
   "source": [
    "data = fin_data\n",
    "post = \"medisinsk\"\n",
    "weekend = False\n",
    "predictions = \"False\"\n",
    "year = 2023\n",
    "avg_length_of_stay = 3  # Gjennomsnittlig liggetid (dager)\n",
    "patients_per_nurse = 3  # Antall pasienter per sykepleier\n",
    "shifts_per_day = 3  # Antall skift per dag\n",
    "iterations = 1000  # Antall simuleringer"
   ]
  },
  {
   "cell_type": "markdown",
   "metadata": {},
   "source": [
    "## Simulering underbemannede skift"
   ]
  },
  {
   "cell_type": "code",
   "execution_count": 6,
   "metadata": {},
   "outputs": [
    {
     "name": "stdout",
     "output_type": "stream",
     "text": [
      "Prosentandel skift med underbemanning: 0.00%\n",
      "Prosentandel skift med overbemanning: 100.00%\n",
      "Prosentandel skift med riktig bemanning: 0.00%\n"
     ]
    }
   ],
   "source": [
    "def over_under_staffed_shifts(data: pd.DataFrame, avg_length_of_stay: int, patients_per_nurse: int, shifts_per_day: int, iterations: int, post: str, weekend: bool = False, predictions: bool = False, year: int = 2024):\n",
    "    if post == \"medisinsk\":\n",
    "        df_fin = data[data[\"post\"] == \"medisinsk\"]\n",
    "    elif post == \"kirurgisk\":\n",
    "        df_fin = data[data[\"post\"] == \"kirurgisk\"]\n",
    "    \n",
    "    if weekend == True:\n",
    "        df_fin = df_fin[df_fin[\"helg\"] == 1]\n",
    "    else:\n",
    "        df_fin = df_fin[df_fin[\"helg\"] == 0]\n",
    "\n",
    "    if predictions == True:\n",
    "        df_fin = df_fin[df_fin[\"År\"] == 2025]\n",
    "    else:\n",
    "        df_fin = df_fin[df_fin[\"År\"] == year]\n",
    "    \n",
    "    df_fin = df_fin.reset_index()\n",
    "    df_index = df_fin.index.values\n",
    "    df_index = [x +1 for x in df_index]\n",
    "    df_fin[\"day of year\"] = df_index\n",
    "    \n",
    "    understaffed_shifts = 0\n",
    "    overstaffed_shifts = 0\n",
    "    total_shifts = 0\n",
    "    staffed_shifts_data = []\n",
    "\n",
    "    for _ in range(iterations):\n",
    "        yearly_understaffed_shifts = 0  # Teller hvor mange skift per år med underbemanning\n",
    "        yearly_overstaffed_shifts = 0  # Teller hvor mange skift per år med overbemanning\n",
    "        patients_on_ward = []  # Liste for å holde oversikt over pasienter som allerede ligger inne\n",
    "        \n",
    "        for index, row in df_fin.iterrows(): \n",
    "            new_admissions = row[\"Antall inn på post\"]  # Simulerer nye pasienter\n",
    "            lengths_of_stay = np.random.exponential(avg_length_of_stay, new_admissions)  # Simulerer liggetider\n",
    "\n",
    "            # Legg til nye pasienter som skal legges inn\n",
    "            patients_on_ward.extend(lengths_of_stay)\n",
    "            \n",
    "            # Oppdater liggetidene for pasienter som allerede er inne\n",
    "            patients_on_ward = [stay - 1 for stay in patients_on_ward]  # Reduserer liggetiden med 1 for hver dag\n",
    "            patients_on_ward = [stay for stay in patients_on_ward if stay > 0]  # Fjern pasienter som er utskrevet\n",
    "\n",
    "            # Beregn total antall pasienter som trenger pleie i dag\n",
    "            total_patients = len(patients_on_ward)\n",
    "\n",
    "            # Beregn antall sykepleiere som trengs per skift\n",
    "            nurses_needed_per_shift = total_patients / patients_per_nurse / shifts_per_day\n",
    "\n",
    "            actual_nurses = 6  # Faktisk antall sykepleiere per skift\n",
    "\n",
    "            # Simuler skiftene for dagen\n",
    "            for shift in range(shifts_per_day):\n",
    "                total_shifts += 1  # Oppdater totalt antall skift\n",
    "                if nurses_needed_per_shift > actual_nurses:\n",
    "                    understaffed_shifts += 1  # Underbemanning i dette skiftet\n",
    "                    yearly_understaffed_shifts += 1  # Tell daglig underbemanning\n",
    "                elif nurses_needed_per_shift < actual_nurses:\n",
    "                    overstaffed_shifts += 1\n",
    "                    yearly_overstaffed_shifts += 1\n",
    "                staffed_shifts_data.append(nurses_needed_per_shift)\n",
    "    return understaffed_shifts, overstaffed_shifts, total_shifts, staffed_shifts_data\n",
    "\n",
    "understaffed_shifts, overstaffed_shifts, total_shifts, staffed_shifts_data = over_under_staffed_shifts(data, avg_length_of_stay, patients_per_nurse, shifts_per_day, iterations, post, weekend, predictions, year)\n",
    "\n",
    "\n",
    "prosent_underbemannet_skift = understaffed_shifts / total_shifts * 100\n",
    "prosent_overbemannet_skift = overstaffed_shifts / total_shifts * 100\n",
    "\n",
    "# Resultat: Hvor ofte er skift underbemannet?\n",
    "print(f\"Prosentandel skift med underbemanning: {prosent_underbemannet_skift:.2f}%\")\n",
    "print(f\"Prosentandel skift med overbemanning: {prosent_overbemannet_skift:.2f}%\")\n",
    "print(f\"Prosentandel skift med riktig bemanning: {(100 - (prosent_underbemannet_skift + prosent_overbemannet_skift)):.2f}%\")\n",
    "\n",
    "# Sjekk om det har vært underbemanning i løpet av året\n",
    "# print(f\"Underbemannede skift i dette året: {yearly_understaffed_shifts}\")\n",
    "# print(f\"Underbemannede skift i dette året (i %): {round((yearly_understaffed_shifts/total_shifts)*100,2)}%\")\n",
    "# print(f\"Overbemannede skift i dette året: {yearly_overstaffed_shifts}\")\n",
    "# print(f\"Overbemannede skift i dette året (i %): {round((yearly_overstaffed_shifts/total_shifts)*100,2)}%\")"
   ]
  },
  {
   "cell_type": "markdown",
   "metadata": {},
   "source": [
    "## Resultater"
   ]
  },
  {
   "cell_type": "code",
   "execution_count": 18,
   "metadata": {},
   "outputs": [
    {
     "data": {
      "image/png": "[encoded data removed]",
      "text/plain": [
       "<Figure size 640x480 with 1 Axes>"
      ]
     },
     "metadata": {},
     "output_type": "display_data"
    }
   ],
   "source": [
    "def under_over_staffing_plot(staffed_shifts_data, iterations, shifts_per_day):\n",
    "    # Forbered data for visualisering\n",
    "    max_nurses_needed = int(max(staffed_shifts_data)) + 1  # Finn maksimum nødvendig sykepleiere\n",
    "    shift_counts = [0] * max_nurses_needed  # Liste for å telle antall skift for hver sykepleier\n",
    "    for nurses_needed in staffed_shifts_data:\n",
    "        shift_counts[int(nurses_needed)] += 1\n",
    "\n",
    "    # Konverter til gjennomsnitt over alle simuleringer\n",
    "    average_shifts_needed = [count / iterations for count in shift_counts]\n",
    "\n",
    "    # Visualisering av gjennomsnittlig bemanningsbehov\n",
    "    plt.bar(range(max_nurses_needed), average_shifts_needed, color='orange')\n",
    "    plt.xlabel('Antall sykepleiere nødvendig per skift')\n",
    "    plt.ylabel('Gjennomsnittlig antall skift ila ett år')\n",
    "    plt.title('Gjennomsnittlig antall skift per bemanningsbehov over ett år')\n",
    "    plt.xticks(range(0, max_nurses_needed, 1))  # Vis alle unike verdier på x-aksen\n",
    "    plt.ylim(0, 365 * shifts_per_day)  # Sett y-aksen opp til maksimalt antall skift i året\n",
    "    plt.grid(axis='y')\n",
    "    plt.show()\n",
    "\n",
    "under_over_staffing_plot(staffed_shifts_data, iterations, shifts_per_day)"
   ]
  },
  {
   "cell_type": "markdown",
   "metadata": {},
   "source": [
    "**Verdi for sykehuset**:<br>\n",
    "<br>\n",
    "1. Forstå hvor ofte avdelingen kan ha for lav bemanning.<br>\n",
    "2. Planlegge bemanning bedre ved å bruke data om faktiske pasientbehov.<br>"
   ]
  }
 ],
 "metadata": {
  "kernelspec": {
   "display_name": "NHS",
   "language": "python",
   "name": "python3"
  },
  "language_info": {
   "codemirror_mode": {
    "name": "ipython",
    "version": 3
   },
   "file_extension": ".py",
   "mimetype": "text/x-python",
   "name": "python",
   "nbconvert_exporter": "python",
   "pygments_lexer": "ipython3",
   "version": "3.9.18"
  }
 },
 "nbformat": 4,
 "nbformat_minor": 2
}
