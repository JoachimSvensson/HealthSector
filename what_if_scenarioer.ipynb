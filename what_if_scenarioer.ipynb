{
 "cells": [
  {
   "cell_type": "markdown",
   "metadata": {},
   "source": [
    "# What-If og Scenario-basert simuleringer"
   ]
  },
  {
   "cell_type": "markdown",
   "metadata": {},
   "source": [
    "**4. Scenarioanalyse og “what-if”-simuleringer**<br>\n",
    "<br>\n",
    "**Formål**: Evaluere effekten av endringer i pasientankomst, liggetid, eller bemanning.<br>\n",
    "**Hvordan**: Lag flere scenarier for pasientankomster (f.eks. sesongvariasjon, pandemier, større ulykker) og se hvordan bemanningsbehovet endrer seg. Du kan også simulere hva som skjer hvis du endrer skiftmønsteret eller øker/reduksjon i bemanningen.<br>\n",
    "**Resultat**: Identifisere hvor sårbar dagens bemanningssituasjon er, og hvor fleksibel den er til å takle endringer i pasientstrømmen.<br>"
   ]
  },
  {
   "cell_type": "markdown",
   "metadata": {},
   "source": [
    "## Import libraries"
   ]
  },
  {
   "cell_type": "code",
   "execution_count": 6,
   "metadata": {},
   "outputs": [],
   "source": [
    "import pandas as pd\n",
    "import numpy as np\n",
    "import matplotlib.pyplot as plt"
   ]
  },
  {
   "cell_type": "markdown",
   "metadata": {},
   "source": [
    "**Formål**: Evaluere effekten av endringer i pasientankomst, liggetid eller bemanning.<br>\n",
    "<br>\n",
    "**Nødvendig data**:<br>\n",
    "<br>\n",
    "1. Data om variasjoner i pasientankomster.<br>\n",
    "2. Endringer i skifttider, ferieavviklinger, osv.<br>"
   ]
  },
  {
   "cell_type": "markdown",
   "metadata": {},
   "source": [
    "## Input data & scenarioer"
   ]
  },
  {
   "cell_type": "code",
   "execution_count": 8,
   "metadata": {},
   "outputs": [],
   "source": [
    "scenarios = [\n",
    "    {\"admissions\": 0.5, \"stay\": 1},  # Scenario 1: Færre pasienter, kortere liggetid --> Sommerferie(?)\n",
    "    {\"admissions\": 12, \"stay\": 6},  # Scenario 2: Flere pasienter, lengre liggetid --> Krig/Krise/Ulykke\n",
    "    {\"admissions\": 12, \"stay\": 1},  # Scenario 3: Mange pasienter, kort liggetid --> Høytider/Helligdager/Offentlige Events etc.\n",
    "]\n",
    "\n",
    "total_beds = 26\n",
    "patients_per_nurse = 3\n",
    "iterations = 1000"
   ]
  },
  {
   "cell_type": "markdown",
   "metadata": {},
   "source": [
    "## What-If simuleringer"
   ]
  },
  {
   "cell_type": "code",
   "execution_count": 9,
   "metadata": {},
   "outputs": [],
   "source": [
    "scenario_results = {}\n",
    "\n",
    "for i, scenario in enumerate(scenarios):\n",
    "    overload_days = 0\n",
    "    avg_occupied_beds = []\n",
    "\n",
    "    for _ in range(iterations):\n",
    "        try:\n",
    "            # pasientflyt og oppholdstid pr scenario\n",
    "            new_admissions = np.random.poisson(scenario[\"admissions\"])\n",
    "            lengths_of_stay = np.random.exponential(scenario[\"stay\"], new_admissions)\n",
    "\n",
    "            # antall senger som er opptatt\n",
    "            occupied_beds = sum([min(len(lengths_of_stay[lengths_of_stay > day]), total_beds) for day in range(int(max(lengths_of_stay)))])\n",
    "        except:\n",
    "            occupied_beds = 0\n",
    "        avg_occupied_beds.append(occupied_beds)\n",
    "        \n",
    "        if occupied_beds > total_beds:\n",
    "            overload_days += 1\n",
    "\n",
    "    scenario_results[f\"Scenario {i+1}\"] = {\n",
    "        \"Avg Occupied Beds\": np.mean(avg_occupied_beds),\n",
    "        \"Overload Probability\": overload_days / iterations\n",
    "    }\n"
   ]
  },
  {
   "cell_type": "markdown",
   "metadata": {},
   "source": [
    "## Resultater"
   ]
  },
  {
   "cell_type": "code",
   "execution_count": 10,
   "metadata": {},
   "outputs": [
    {
     "name": "stdout",
     "output_type": "stream",
     "text": [
      "Scenario 1: Gjennomsnittlig belegg = 0.37, Overbelastning = 0.00%\n",
      "Scenario 2: Gjennomsnittlig belegg = 76.65, Overbelastning = 97.30%\n",
      "Scenario 3: Gjennomsnittlig belegg = 17.20, Overbelastning = 8.60%\n"
     ]
    }
   ],
   "source": [
    "for scenario, result in scenario_results.items():\n",
    "    print(f\"{scenario}: Gjennomsnittlig belegg = {result['Avg Occupied Beds']:.2f}, \"\n",
    "          f\"Overbelastning = {result['Overload Probability'] * 100:.2f}%\")"
   ]
  },
  {
   "cell_type": "markdown",
   "metadata": {},
   "source": [
    "**Verdi for sykehuset**:<br>\n",
    "<br>\n",
    "1. Forstå effekten av ekstreme scenarier, som sesongmessig økning i pasienter.<br>\n",
    "2. Forbedre beredskapsplaner og ressursallokering.<br>"
   ]
  }
 ],
 "metadata": {
  "kernelspec": {
   "display_name": "NHS",
   "language": "python",
   "name": "python3"
  },
  "language_info": {
   "codemirror_mode": {
    "name": "ipython",
    "version": 3
   },
   "file_extension": ".py",
   "mimetype": "text/x-python",
   "name": "python",
   "nbconvert_exporter": "python",
   "pygments_lexer": "ipython3",
   "version": "3.9.18"
  }
 },
 "nbformat": 4,
 "nbformat_minor": 2
}
